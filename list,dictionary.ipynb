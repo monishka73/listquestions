{
 "cells": [
  {
   "cell_type": "code",
   "execution_count": 1,
   "id": "22cd6ac6-27ee-4b88-9ac4-c4b302dbc9a2",
   "metadata": {},
   "outputs": [
    {
     "name": "stdout",
     "output_type": "stream",
     "text": [
      "10 <class 'tuple'>\n"
     ]
    }
   ],
   "source": [
    "#Tuple\n",
    "x=10,20,30\n",
    "print(x[0],type(x))"
   ]
  },
  {
   "cell_type": "code",
   "execution_count": 3,
   "id": "a972c40b-37be-497f-90e3-982650bbc5d1",
   "metadata": {},
   "outputs": [
    {
     "name": "stdout",
     "output_type": "stream",
     "text": [
      "(10, 20) <class 'tuple'>\n"
     ]
    }
   ],
   "source": [
    "x=10,20,30\n",
    "print(x[0:2],type(x))"
   ]
  },
  {
   "cell_type": "code",
   "execution_count": 5,
   "id": "3e1eed0e-5bef-4e42-9a07-42717d1eaf3e",
   "metadata": {},
   "outputs": [
    {
     "data": {
      "text/plain": [
       "3"
      ]
     },
     "execution_count": 5,
     "metadata": {},
     "output_type": "execute_result"
    }
   ],
   "source": [
    "x=10,20,30,40,10,10\n",
    "x.count(10)"
   ]
  },
  {
   "cell_type": "code",
   "execution_count": 7,
   "id": "d183f3d2-773c-4cab-a4ec-4d8cfd3bb065",
   "metadata": {},
   "outputs": [
    {
     "name": "stdout",
     "output_type": "stream",
     "text": [
      "1\n"
     ]
    }
   ],
   "source": [
    "x=10,20,40,20,10\n",
    "print(x.index(20))"
   ]
  },
  {
   "cell_type": "code",
   "execution_count": 9,
   "id": "4c05e961-1c67-4f70-8cba-f3d2717ad5be",
   "metadata": {},
   "outputs": [
    {
     "name": "stdout",
     "output_type": "stream",
     "text": [
      "1870548160704\n",
      "1870548348624\n",
      "(10, 20, 30, 40, 50)\n"
     ]
    }
   ],
   "source": [
    "# in tuple memory adress is changed but in list not\n",
    "x=(10,20,30)\n",
    "print(id(x))\n",
    "x=x+(40,50)\n",
    "print(id(x))\n",
    "print(x)"
   ]
  },
  {
   "cell_type": "code",
   "execution_count": 13,
   "id": "43fdc975-21d7-4984-bd48-5e21f66969ee",
   "metadata": {},
   "outputs": [
    {
     "name": "stdout",
     "output_type": "stream",
     "text": [
      "tushar\n",
      "<class 'dict'>\n"
     ]
    }
   ],
   "source": [
    "#dictionary #noindexposition\n",
    "userdetail={100:\"tushar\",101:\"aman\"}\n",
    "print(userdetail[100])\n",
    "print(type(userdetail))"
   ]
  },
  {
   "cell_type": "code",
   "execution_count": 17,
   "id": "11e18402-7108-4a3a-a088-776a68f6e430",
   "metadata": {},
   "outputs": [
    {
     "name": "stdout",
     "output_type": "stream",
     "text": [
      "{100: 'tushar', 101: 'yash', 102: 'ujjwal'}\n"
     ]
    }
   ],
   "source": [
    "userdetail={100:\"tushar\",101:\"aman\"}\n",
    "userdetail[102]=\"ujjwal\" #insert\n",
    "userdetail[101]=\"yash\" #update\n",
    "print(userdetail)"
   ]
  },
  {
   "cell_type": "code",
   "execution_count": 19,
   "id": "9740ee04-d6d1-4eb4-9e78-db4a20f46401",
   "metadata": {},
   "outputs": [
    {
     "name": "stdout",
     "output_type": "stream",
     "text": [
      "{100: 'tushar'}\n"
     ]
    }
   ],
   "source": [
    "userdetail={100:\"tushar\",101:\"aman\"}\n",
    "userdetail.pop(101)\n",
    "print(userdetail)"
   ]
  },
  {
   "cell_type": "code",
   "execution_count": 23,
   "id": "1938591b-1f72-49e9-8323-cc9c6cc6136b",
   "metadata": {},
   "outputs": [
    {
     "name": "stdout",
     "output_type": "stream",
     "text": [
      "{100: 'tushar'} (101, 'aman')\n"
     ]
    }
   ],
   "source": [
    "userdetail={100:\"tushar\",101:\"aman\"}\n",
    "x=userdetail.popitem() #delete the last element\n",
    "print(userdetail,x)"
   ]
  },
  {
   "cell_type": "code",
   "execution_count": 35,
   "id": "65e0b4c9-fad4-43a8-a1fa-d2f4b2960e4e",
   "metadata": {},
   "outputs": [
    {
     "name": "stdout",
     "output_type": "stream",
     "text": [
      "keys: dict_keys([100, 101])\n",
      "value: dict_values(['tushar', 'aman'])\n",
      "keys and value: dict_items([(100, 'tushar'), (101, 'aman')])\n"
     ]
    }
   ],
   "source": [
    "userdetail={100:\"tushar\",101:\"aman\"}\n",
    "print(\"keys:\",userdetail.keys())\n",
    "print(\"value:\",userdetail.values())\n",
    "print(\"keys and value:\",userdetail.items())"
   ]
  },
  {
   "cell_type": "code",
   "execution_count": 37,
   "id": "b1326644-1737-4ad6-821c-27e1a8e88c4c",
   "metadata": {},
   "outputs": [
    {
     "name": "stdout",
     "output_type": "stream",
     "text": [
      "{100: 15, 101: 'aman', 107: 'yash'}\n"
     ]
    }
   ],
   "source": [
    "userdetail={100:\"tushar\",101:\"aman\"}\n",
    "userdetail.update({100:15,107:\"yash\"}) #update the value\n",
    "print(userdetail)"
   ]
  },
  {
   "cell_type": "code",
   "execution_count": 41,
   "id": "efdde266-176d-4ca9-b66a-77b3a9db761d",
   "metadata": {},
   "outputs": [
    {
     "name": "stdout",
     "output_type": "stream",
     "text": [
      "100\n",
      "{'salary': 190}\n"
     ]
    }
   ],
   "source": [
    "mydictionary={\"salary\":100}\n",
    "print(mydictionary[\"salary\"])\n",
    "mydictionary[\"salary\"]=mydictionary[\"salary\"]+90\n",
    "print(mydictionary)"
   ]
  },
  {
   "cell_type": "code",
   "execution_count": 67,
   "id": "9dab1b5d-b0e3-494d-a8fc-98f2d4355bf1",
   "metadata": {},
   "outputs": [
    {
     "name": "stdout",
     "output_type": "stream",
     "text": [
      "{10: 1, 11: 1, 12: 1, 13: 1, 14: 1, 15: 1}\n"
     ]
    }
   ],
   "source": [
    "mydictionary={}\n",
    "for i in range(10,16):\n",
    "    mydictionary[i]=1\n",
    "print(mydictionary)\n",
    "    "
   ]
  },
  {
   "cell_type": "code",
   "execution_count": 77,
   "id": "2da58c91-320d-4c7c-b551-467d7dbfc3be",
   "metadata": {},
   "outputs": [
    {
     "name": "stdout",
     "output_type": "stream",
     "text": [
      "{'e': 1, 'u': 1, 'a': 1}\n"
     ]
    }
   ],
   "source": [
    "mydictionary={}\n",
    "for i in \"hey ura\":\n",
    "    if i in \"aeiou\":\n",
    "        mydictionary[i]=1\n",
    "print(mydictionary)\n",
    "#e:1 u:1 a:1"
   ]
  },
  {
   "cell_type": "code",
   "execution_count": 83,
   "id": "1d7280d4-ee81-48df-af75-68f565003c16",
   "metadata": {},
   "outputs": [
    {
     "name": "stdout",
     "output_type": "stream",
     "text": [
      "{'salary': 110}\n"
     ]
    }
   ],
   "source": [
    "x={\"salary\":100}\n",
    "if(\"salary\"in x):\n",
    "    x[\"salary\"]=x[\"salary\"]+10 #update\n",
    "else:\n",
    "    x[\"salary\"]=10\n",
    "print(x)"
   ]
  },
  {
   "cell_type": "code",
   "execution_count": 95,
   "id": "6376c239-3b07-41d6-9524-1bf385d4273f",
   "metadata": {},
   "outputs": [
    {
     "name": "stdout",
     "output_type": "stream",
     "text": [
      "{'h': 2, 'e': 2, 'y': 1, 'a': 1}\n"
     ]
    }
   ],
   "source": [
    "mydictionary={}\n",
    "for i in \"hehyea\":\n",
    "    if i in mydictionary:\n",
    "        mydictionary[i]=mydictionary[i]+1\n",
    "    else:\n",
    "        mydictionary[i]=1\n",
    "        \n",
    "print(mydictionary)"
   ]
  },
  {
   "cell_type": "code",
   "execution_count": 3,
   "id": "4b33b23e-e3e2-4026-bf91-6061d8380dfe",
   "metadata": {},
   "outputs": [
    {
     "name": "stdout",
     "output_type": "stream",
     "text": [
      "0 a\n",
      "1 b\n",
      "2 c\n",
      "{'ab': 1, 'ac': 1, 'bb': 1, 'bc': 1, 'cb': 1, 'cc': 1}\n"
     ]
    }
   ],
   "source": [
    "data=\"abc\"\n",
    "mydictionary={}\n",
    "for i in range(0,len(data)):\n",
    "    print(i,data[i])\n",
    "    for j in range(1,len(data)):\n",
    "        if (data[i]+data[j] not in mydictionary):\n",
    "            mydictionary[data[i]+data[j]]=1\n",
    "print(mydictionary)\n"
   ]
  },
  {
   "cell_type": "code",
   "execution_count": 13,
   "id": "c8e84d35-b5fa-49cc-a971-7b84ece50ee4",
   "metadata": {},
   "outputs": [
    {
     "name": "stdout",
     "output_type": "stream",
     "text": [
      "{'a': 1, 'ab': 1, 'ac': 1, 'b': 1, 'bc': 1, 'c': 1}\n"
     ]
    }
   ],
   "source": [
    "data=\"abc\"\n",
    "mydictionary={}\n",
    "for i in range(0,len(data)):\n",
    "    if(data[i] not in mydictionary):\n",
    "      mydictionary[data[i]]=1\n",
    "    for j in range(i+1,len(data)):\n",
    "        if(data[i]+data[j] not in mydictionary):\n",
    "            mydictionary[data[i]+data[j]]=1\n",
    "print(mydictionary)"
   ]
  },
  {
   "cell_type": "code",
   "execution_count": 17,
   "id": "3f62e2f2-c50a-4bb5-bea8-5e14144378bd",
   "metadata": {},
   "outputs": [
    {
     "name": "stdout",
     "output_type": "stream",
     "text": [
      "{'a': 1, 'ab': 1, 'ac': 1, 'b': 1, 'bc': 1, 'c': 1, 'abc': 1}\n"
     ]
    }
   ],
   "source": [
    "data=\"abc\"\n",
    "mydictionary={}\n",
    "for i in range(0,len(data)):\n",
    "    if(data[i] not in mydictionary):\n",
    "           \n",
    "      mydictionary[data[i]]=1\n",
    "    else:\n",
    "        mydictionary[data[i]]+=1\n",
    "    for j in range(i+1,len(data)):\n",
    "        if(data[i]+data[j] not in mydictionary):\n",
    "            mydictionary[data[i]+data[j]]=1\n",
    "        else:\n",
    "            mydictionary[data[i]+data[j]]+=1\n",
    "\n",
    "if data not in mydictionary:\n",
    "    mydictionary[data]=1\n",
    "print(mydictionary)"
   ]
  },
  {
   "cell_type": "code",
   "execution_count": 7,
   "id": "2c4b10ed-55a1-4d69-a2f0-8a296bfd70a1",
   "metadata": {},
   "outputs": [
    {
     "name": "stdin",
     "output_type": "stream",
     "text": [
      "enter the number: 10\n"
     ]
    },
    {
     "name": "stdout",
     "output_type": "stream",
     "text": [
      "vale matched\n",
      "vale matched\n",
      "vale matched\n",
      "vale matched\n",
      "vale matched\n",
      "vale matched\n",
      "vale matched\n",
      "vale matched\n",
      "vale matched\n",
      "vale matched\n"
     ]
    }
   ],
   "source": [
    "mydict=[]\n",
    "x=int(input(\"enter the number:\"))\n",
    "for i in range(1,11):\n",
    "    if(x==10):\n",
    "        "
   ]
  },
  {
   "cell_type": "code",
   "execution_count": 5,
   "id": "b6a21927-af68-4860-839a-0a5cc43b035f",
   "metadata": {},
   "outputs": [
    {
     "name": "stdin",
     "output_type": "stream",
     "text": [
      "enter the number: 10\n"
     ]
    },
    {
     "name": "stdout",
     "output_type": "stream",
     "text": [
      "value matched\n",
      "value matched\n",
      "value matched\n",
      "value matched\n",
      "value matched\n",
      "value matched\n",
      "value matched\n",
      "value matched\n",
      "value matched\n",
      "value matched\n"
     ]
    }
   ],
   "source": [
    "mydict=[]\n",
    "x=int(input(\"enter the number:\"))\n",
    "for i in range(1,11):\n",
    "    if(x==10):\n",
    "        print(\"value matched\")\n",
    "        "
   ]
  },
  {
   "cell_type": "code",
   "execution_count": 11,
   "id": "0131f434-38a2-4902-80ec-c51f89746c75",
   "metadata": {},
   "outputs": [
    {
     "name": "stdout",
     "output_type": "stream",
     "text": [
      "{'h': 1, 'e': 1, 'y': 1}\n"
     ]
    }
   ],
   "source": [
    "str=\"hey\"\n",
    "mydict={}\n",
    "for i in str:\n",
    "    mydict[i]=1\n",
    "print(mydict)"
   ]
  },
  {
   "cell_type": "code",
   "execution_count": 27,
   "id": "a114b3bc-d507-4f04-b2f2-469bda980e7a",
   "metadata": {},
   "outputs": [
    {
     "name": "stdout",
     "output_type": "stream",
     "text": [
      "{'total': 10}\n"
     ]
    }
   ],
   "source": [
    "str=\"helllo hey\"\n",
    "mydict={}\n",
    "total=0\n",
    "for i in str:\n",
    "    total+=1\n",
    "mydict[\"total\"]=total\n",
    "print(mydict)\n",
    "\n"
   ]
  },
  {
   "cell_type": "code",
   "execution_count": 35,
   "id": "a2f06a11-03df-44b1-a8c1-744927a273af",
   "metadata": {},
   "outputs": [
    {
     "name": "stdout",
     "output_type": "stream",
     "text": [
      "{'e': 1, 'a': 1}\n"
     ]
    }
   ],
   "source": [
    "mydict={}\n",
    "for i in \"regex a\":\n",
    "    if i in \"aeiou\":\n",
    "        mydict[i]=1\n",
    "print(mydict)"
   ]
  },
  {
   "cell_type": "code",
   "execution_count": 65,
   "id": "2dba2545-6277-4c94-a943-19e6aef0ec27",
   "metadata": {},
   "outputs": [
    {
     "name": "stdout",
     "output_type": "stream",
     "text": [
      "{'e': 2, 'o': 1, 'a': 1, 'i': 1}\n"
     ]
    }
   ],
   "source": [
    "s=\"hey,hello,abhi\"\n",
    "mydict={}\n",
    "for i in s:\n",
    "    if i in \"aeiou\":\n",
    "        if i not in mydict:\n",
    "            mydict[i]=1\n",
    "        else:\n",
    "            mydict[i]=mydict[i]+1\n",
    "print(mydict)\n",
    "    "
   ]
  },
  {
   "cell_type": "code",
   "execution_count": null,
   "id": "011fab54-34df-4672-8bc7-ce377b5724da",
   "metadata": {},
   "outputs": [],
   "source": [
    "#list comprehension\n",
    "#dictionary comprehension\n",
    "#string"
   ]
  },
  {
   "cell_type": "code",
   "execution_count": 7,
   "id": "b7f91a9c-748c-49e4-8b03-58ff48d6a092",
   "metadata": {},
   "outputs": [
    {
     "ename": "SyntaxError",
     "evalue": "invalid syntax. Maybe you meant '==' or ':=' instead of '='? (1069367412.py, line 17)",
     "output_type": "error",
     "traceback": [
      "\u001b[1;36m  Cell \u001b[1;32mIn[7], line 17\u001b[1;36m\u001b[0m\n\u001b[1;33m    if (dict1=dict2):\u001b[0m\n\u001b[1;37m        ^\u001b[0m\n\u001b[1;31mSyntaxError\u001b[0m\u001b[1;31m:\u001b[0m invalid syntax. Maybe you meant '==' or ':=' instead of '='?\n"
     ]
    }
   ],
   "source": [
    "#anagram\n",
    "s=\"rarj\"\n",
    "t=\"jrra\"\n",
    "dict1={}\n",
    "dict2={}\n",
    "for i in s:\n",
    "    if i in dict1:\n",
    "        dict[i]=dict[i]+1\n",
    "    else:\n",
    "        dict[i]=1\n",
    "\n",
    "for i in t:\n",
    "    if i in dict2:\n",
    "        dict2[i]=dict2[i]+1\n",
    "    else:\n",
    "        dict2[i]=1\n",
    "if (dict1=dict2):\n",
    "    print(\"t is anagram\")\n",
    "else :\n",
    "    print(\"not\")"
   ]
  },
  {
   "cell_type": "code",
   "execution_count": 11,
   "id": "9a74da13-03b7-4ac7-a068-384aa77dbacf",
   "metadata": {},
   "outputs": [
    {
     "data": {
      "text/plain": [
       "[1, 2, 3, 4, 5, 6, 7, 8, 9]"
      ]
     },
     "execution_count": 11,
     "metadata": {},
     "output_type": "execute_result"
    }
   ],
   "source": [
    "for i in range(1,10\n",
    "\n",
    "[i for i  in range(1,10)]"
   ]
  },
  {
   "cell_type": "code",
   "execution_count": null,
   "id": "218aaacd-7758-4af7-9bca-99594b573ba7",
   "metadata": {},
   "outputs": [],
   "source": []
  }
 ],
 "metadata": {
  "kernelspec": {
   "display_name": "Python [conda env:base] *",
   "language": "python",
   "name": "conda-base-py"
  },
  "language_info": {
   "codemirror_mode": {
    "name": "ipython",
    "version": 3
   },
   "file_extension": ".py",
   "mimetype": "text/x-python",
   "name": "python",
   "nbconvert_exporter": "python",
   "pygments_lexer": "ipython3",
   "version": "3.12.7"
  }
 },
 "nbformat": 4,
 "nbformat_minor": 5
}
